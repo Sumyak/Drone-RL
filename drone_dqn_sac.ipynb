{
 "cells": [
  {
   "cell_type": "code",
   "execution_count": 1,
   "id": "2389853c",
   "metadata": {},
   "outputs": [
    {
     "name": "stdout",
     "output_type": "stream",
     "text": [
      "pygame 2.5.1 (SDL 2.28.2, Python 3.9.13)\n",
      "Hello from the pygame community. https://www.pygame.org/contribute.html\n"
     ]
    }
   ],
   "source": [
    "import os\n",
    "from math import sin, cos, pi, sqrt\n",
    "from random import randrange\n",
    "\n",
    "import numpy as np\n",
    "import gym\n",
    "from gym import spaces\n",
    "\n",
    "import pygame\n",
    "from pygame.locals import *"
   ]
  },
  {
   "cell_type": "code",
   "execution_count": 2,
   "id": "2f37d7c2",
   "metadata": {},
   "outputs": [],
   "source": [
    "class droneEnv(gym.Env):\n",
    "    def __init__(self, render_frame):\n",
    "        super(droneEnv, self).__init__()\n",
    "        self.render_frame = render_frame\n",
    "\n",
    "        pygame.init()\n",
    "        self.Frame_per_second = pygame.time.Clock()\n",
    "        self.display = pygame.display.set_mode((900, 900))\n",
    "        \n",
    "        player_width = 80\n",
    "        player_length = 24\n",
    "        self.player = []\n",
    "        self.player_animation_speed = 0.3\n",
    "        for i in range(1, 5):\n",
    "            image = pygame.image.load(os.path.join(\"assets/balloon-flat-asset-pack/png/objects/drone-sprites/drone-\"\n",
    "            + str(i)\n",
    "            + \".png\"))\n",
    "            image.convert()\n",
    "            self.player.append(pygame.transform.scale(image, (player_width, int(player_width * 0.30))))\n",
    "            \n",
    "        target_width = 30\n",
    "        target_length = 30\n",
    "        target_animation_speed = 0.1\n",
    "        #self.target = []\n",
    "        #for i in range(1, 8):\n",
    "        #    image = pygame.image.load(os.path.join(\n",
    "        #    \"assets/balloon-flat-asset-pack/png/balloon-sprites/red-plain/red-plain-\"\n",
    "        #    + str(i)\n",
    "        #    + \".png\"))\n",
    "        #    image.convert()\n",
    "        #    self.target.append(pygame.transform.scale(image, (target_width, int(target_width * 1.73))))\n",
    "        self.target = pygame.image.load(os.path.join(\"assets/sprites/target_old.png\"))\n",
    "        self.target.convert()\n",
    "        \n",
    "        pygame.font.init()\n",
    "        self.myfont = pygame.font.SysFont(\"Comic Sans MS\", 20)\n",
    "        \n",
    "        # coordinates and constraints\n",
    "        (self.a, self.ad, self.add, self.x, self.xd, self.xdd, self.y, self.yd, self.ydd) = (0, 0, 0, 400, 0, 0, 400, 0, 0)\n",
    "        self.xt = randrange(200, 600)\n",
    "        self.yt = randrange(200, 600)\n",
    "        self.FPS = 60\n",
    "        self.gravity = 0.08\n",
    "        self.thruster_amplitude = 0.04\n",
    "        self.diff_amplitude = 0.0006\n",
    "        self.thruster_mean = 0.04\n",
    "        self.mass = 1\n",
    "        self.arm = 25\n",
    "        self.target_counter = 0\n",
    "        self.reward = 0\n",
    "        self.time = 0\n",
    "        self.time_limit = 30\n",
    "        self.stepno = 0;\n",
    "        \n",
    "\n",
    "        self.action_space = gym.spaces.Discrete(5)\n",
    "        self.observation_space = spaces.Box(low=-np.inf, high=np.inf, shape=(7,))\n",
    "        \n",
    "    def step(self, action):\n",
    "        self.reward = 0.0\n",
    "            \n",
    "        for i in range(5):\n",
    "            self.stepno += 1\n",
    "            self.time += 1/60\n",
    "            self.xdd = 0\n",
    "            self.ydd = self.gravity\n",
    "            self.add = 0\n",
    "            thruster_left = self.thruster_mean\n",
    "            thruster_right = self.thruster_mean\n",
    "            if int(action) == 0:\n",
    "                pass\n",
    "            elif int(action) == 1:\n",
    "                thruster_left += self.thruster_amplitude\n",
    "                thruster_right += self.thruster_amplitude\n",
    "            elif int(action) == 2:\n",
    "                thruster_left -= self.thruster_amplitude\n",
    "                thruster_right -= self.thruster_amplitude\n",
    "            elif int(action) == 3:\n",
    "                thruster_left += self.diff_amplitude\n",
    "                thruster_right -= self.diff_amplitude\n",
    "            elif int(action) == 4:\n",
    "                thruster_left -= self.diff_amplitude\n",
    "                thruster_right += self.diff_amplitude\n",
    "                    \n",
    "            self.xdd += (\n",
    "                -(thruster_left + thruster_right) * sin(self.a * pi / 180) / self.mass\n",
    "            )\n",
    "            self.ydd += (\n",
    "                -(thruster_left + thruster_right) * cos(self.a * pi / 180) / self.mass\n",
    "            )\n",
    "            self.add += self.arm * (thruster_right - thruster_left) / self.mass\n",
    "\n",
    "            self.xd += self.xdd\n",
    "            self.yd += self.ydd\n",
    "            self.ad += self.add\n",
    "            self.x += self.xd\n",
    "            self.y += self.yd\n",
    "            self.a += self.ad    \n",
    "            \n",
    "            dist = sqrt((self.x - self.xt) ** 2 + (self.y - self.yt) ** 2)\n",
    "\n",
    "            self.reward += 1 / 60\n",
    "            self.reward -= dist / (100 * 60)\n",
    "\n",
    "            if dist < 50:\n",
    "                self.xt = randrange(200, 600)\n",
    "                self.yt = randrange(200, 600)\n",
    "                self.reward += 100\n",
    "                self.target_counter += 1\n",
    "\n",
    "            if self.time > self.time_limit:\n",
    "                done = True\n",
    "                break\n",
    "\n",
    "            elif dist > 1000:\n",
    "                self.reward -= 1000\n",
    "                done = True\n",
    "                break\n",
    "\n",
    "            else:\n",
    "                done = False\n",
    "\n",
    "            if self.render_frame is True:\n",
    "                self.render(i)\n",
    "            \n",
    "        info = {}    \n",
    "        return (\n",
    "            self.obs(),\n",
    "            self.reward,\n",
    "            done,\n",
    "            info,\n",
    "        )\n",
    "    \n",
    "    def reset(self):\n",
    "        (self.a, self.ad, self.add, self.x, self.xd, self.xdd, self.y, self.yd, self.ydd) = (0, 0, 0, 400, 0, 0, 400, 0, 0)\n",
    "        \n",
    "        self.xt = randrange(200, 600)\n",
    "        self.yt = randrange(200, 600)\n",
    "\n",
    "        self.target_counter = 0\n",
    "        self.reward = 0\n",
    "        self.time = 0\n",
    "        self.stepno = 0\n",
    "        return self.obs()\n",
    "    \n",
    "    def obs(self) -> np.ndarray:\n",
    "        \n",
    "        velocity = sqrt(self.xd**2 + self.yd**2)\n",
    "        dist_target = (\n",
    "            sqrt((self.xt - self.x) ** 2 + (self.yt - self.y) ** 2) / 500\n",
    "        )\n",
    "        angle_withtarget = np.arctan2(self.yt - self.y, self.xt - self.x)\n",
    "        angle_target_and_velocity = np.arctan2(self.yt - self.y, self.xt - self.x) - np.arctan2(self.yd, self.xd)\n",
    "        distance_to_target = (sqrt((self.xt - self.x) ** 2 + (self.yt - self.y) ** 2) / 500)\n",
    "        return np.array(\n",
    "            [\n",
    "                self.a / 180 * pi,\n",
    "                velocity,\n",
    "                self.ad,\n",
    "                dist_target,\n",
    "                angle_withtarget,\n",
    "                angle_target_and_velocity,\n",
    "                distance_to_target,\n",
    "            ]\n",
    "        ).astype(np.float32)\n",
    "            \n",
    "        \n",
    "    def render(self, i):\n",
    "        # Pygame rendering\n",
    "        pygame.event.get()\n",
    "        self.display.fill((173, 220, 255))\n",
    "        #self.target = pygame.transform.scale(self.target, (target_width, int(player_width * 0.30)))\n",
    "        self.display.blit(\n",
    "            self.target,\n",
    "            (\n",
    "                self.xt - int(self.target.get_width() / 2),\n",
    "                self.yt - int(self.target.get_height() / 2),\n",
    "            ),\n",
    "        )\n",
    "        player_sprite = self.player[int(self.stepno * self.player_animation_speed) % len(self.player)]\n",
    "        player_copy = pygame.transform.rotate(player_sprite, self.a)\n",
    "        #player_copy = pygame.transform.scale(player_copy, (player_width, int(player_width * 0.30)))\n",
    "        self.display.blit(\n",
    "            player_copy,\n",
    "            (\n",
    "                self.x - int(player_copy.get_width() / 2),\n",
    "                self.y - int(player_copy.get_height() / 2),\n",
    "            ),\n",
    "        )\n",
    "\n",
    "        textsurface = self.myfont.render(\n",
    "            \"Collected: \" + str(self.target_counter), False, (255, 255, 255)\n",
    "        )\n",
    "        self.display.blit(textsurface, (20, 20))\n",
    "        textsurface3 = self.myfont.render(\n",
    "            \"Time left: \" + str(int(self.time_limit - self.time)), False, (255, 255, 255)\n",
    "        )\n",
    "        self.display.blit(textsurface3, (20, 50))\n",
    "\n",
    "        pygame.display.update()\n",
    "        self.Frame_per_second.tick(self.FPS)\n",
    "\n",
    "    def close(self):\n",
    "        pass        \n",
    "    "
   ]
  },
  {
   "cell_type": "code",
   "execution_count": 3,
   "id": "687234a2",
   "metadata": {},
   "outputs": [
    {
     "name": "stdout",
     "output_type": "stream",
     "text": [
      "Wrapping the env with a `Monitor` wrapper\n",
      "Wrapping the env in a DummyVecEnv.\n",
      "Episode reward -334.2516901752995\n",
      "Episode reward 959.8442203445431\n",
      "Episode reward 1048.5096992535637\n",
      "Episode reward 855.0100192623484\n",
      "Episode reward 1064.9729997738489\n"
     ]
    }
   ],
   "source": [
    "import os\n",
    "import gym\n",
    "import numpy as np\n",
    "import torch as th\n",
    "from stable_baselines3 import DQN\n",
    "\n",
    "MODEL_PATH = \"models/DQN_v2/model\"\n",
    "\n",
    "# Create and wrap the environment\n",
    "env = droneEnv(True)\n",
    "\n",
    "# Load the trained agent\n",
    "model = DQN.load(MODEL_PATH, env=env)\n",
    "\n",
    "# Evaluate the agent\n",
    "for i in range(5):\n",
    "    obs = env.reset()\n",
    "    done = False\n",
    "    episode_reward = 0\n",
    "    while not done:\n",
    "        action, _states = model.predict(obs, deterministic=True)\n",
    "        obs, reward, done, info = env.step(action)\n",
    "        episode_reward += reward\n",
    "    print(\"Episode reward\", episode_reward)\n",
    "    env.render(i)"
   ]
  },
  {
   "cell_type": "code",
   "execution_count": 1,
   "id": "da42ae4e",
   "metadata": {},
   "outputs": [
    {
     "name": "stderr",
     "output_type": "stream",
     "text": [
      "\u001b[34m\u001b[1mwandb\u001b[0m: Currently logged in as: \u001b[33msamyak_j\u001b[0m (\u001b[33msolorn\u001b[0m). Use \u001b[1m`wandb login --relogin`\u001b[0m to force relogin\n"
     ]
    },
    {
     "data": {
      "text/html": [
       "wandb version 0.15.12 is available!  To upgrade, please run:\n",
       " $ pip install wandb --upgrade"
      ],
      "text/plain": [
       "<IPython.core.display.HTML object>"
      ]
     },
     "metadata": {},
     "output_type": "display_data"
    },
    {
     "data": {
      "text/html": [
       "Tracking run with wandb version 0.15.10"
      ],
      "text/plain": [
       "<IPython.core.display.HTML object>"
      ]
     },
     "metadata": {},
     "output_type": "display_data"
    },
    {
     "data": {
      "text/html": [
       "Run data is saved locally in <code>/Users/samyakjain/wandb/run-20231107_111459-1cje5gzr</code>"
      ],
      "text/plain": [
       "<IPython.core.display.HTML object>"
      ]
     },
     "metadata": {},
     "output_type": "display_data"
    },
    {
     "data": {
      "text/html": [
       "Syncing run <strong><a href='https://wandb.ai/solorn/quadai/runs/1cje5gzr' target=\"_blank\">tough-water-6</a></strong> to <a href='https://wandb.ai/solorn/quadai' target=\"_blank\">Weights & Biases</a> (<a href='https://wandb.me/run' target=\"_blank\">docs</a>)<br/>"
      ],
      "text/plain": [
       "<IPython.core.display.HTML object>"
      ]
     },
     "metadata": {},
     "output_type": "display_data"
    },
    {
     "data": {
      "text/html": [
       " View project at <a href='https://wandb.ai/solorn/quadai' target=\"_blank\">https://wandb.ai/solorn/quadai</a>"
      ],
      "text/plain": [
       "<IPython.core.display.HTML object>"
      ]
     },
     "metadata": {},
     "output_type": "display_data"
    },
    {
     "data": {
      "text/html": [
       " View run at <a href='https://wandb.ai/solorn/quadai/runs/1cje5gzr' target=\"_blank\">https://wandb.ai/solorn/quadai/runs/1cje5gzr</a>"
      ],
      "text/plain": [
       "<IPython.core.display.HTML object>"
      ]
     },
     "metadata": {},
     "output_type": "display_data"
    },
    {
     "ename": "NameError",
     "evalue": "name 'os' is not defined",
     "output_type": "error",
     "traceback": [
      "\u001b[0;31m---------------------------------------------------------------------------\u001b[0m",
      "\u001b[0;31mNameError\u001b[0m                                 Traceback (most recent call last)",
      "\u001b[0;32m/var/folders/f6/wbtp4cz96_g6vgbyvh0mvm480000gn/T/ipykernel_1468/1228172685.py\u001b[0m in \u001b[0;36m<module>\u001b[0;34m\u001b[0m\n\u001b[1;32m     15\u001b[0m \u001b[0;34m\u001b[0m\u001b[0m\n\u001b[1;32m     16\u001b[0m \u001b[0mlog_dir\u001b[0m \u001b[0;34m=\u001b[0m \u001b[0;34m\"tmp/\"\u001b[0m\u001b[0;34m\u001b[0m\u001b[0;34m\u001b[0m\u001b[0m\n\u001b[0;32m---> 17\u001b[0;31m \u001b[0mos\u001b[0m\u001b[0;34m.\u001b[0m\u001b[0mmakedirs\u001b[0m\u001b[0;34m(\u001b[0m\u001b[0mlog_dir\u001b[0m\u001b[0;34m,\u001b[0m \u001b[0mexist_ok\u001b[0m\u001b[0;34m=\u001b[0m\u001b[0;32mTrue\u001b[0m\u001b[0;34m)\u001b[0m\u001b[0;34m\u001b[0m\u001b[0;34m\u001b[0m\u001b[0m\n\u001b[0m\u001b[1;32m     18\u001b[0m \u001b[0;34m\u001b[0m\u001b[0m\n\u001b[1;32m     19\u001b[0m \u001b[0;34m\u001b[0m\u001b[0m\n",
      "\u001b[0;31mNameError\u001b[0m: name 'os' is not defined"
     ]
    }
   ],
   "source": [
    "###### training\n",
    "\n",
    "from stable_baselines3 import DQN\n",
    "from stable_baselines3.common.monitor import Monitor\n",
    "from stable_baselines3.common.callbacks import CheckpointCallback\n",
    "import wandb\n",
    "from wandb.integration.sb3 import WandbCallback\n",
    "\n",
    "\n",
    "run = wandb.init(\n",
    "    project=\"quadai\",\n",
    "    sync_tensorboard=True,\n",
    "    monitor_gym=True,\n",
    ")\n",
    "\n",
    "log_dir = \"tmp/\"\n",
    "os.makedirs(log_dir, exist_ok=True)\n",
    "\n",
    "\n",
    "env = droneEnv(False)\n",
    "env = Monitor(env, log_dir)\n",
    "\n",
    "\n",
    "model = DQN(\"MlpPolicy\", env, verbose=1, tensorboard_log=log_dir)\n",
    "\n",
    "\n",
    "checkpoint_callback = CheckpointCallback(\n",
    "    save_freq=100000, save_path=log_dir, name_prefix=\"rl_model_v0\"\n",
    ")\n",
    "\n",
    "model.learn(\n",
    "    total_timesteps=10000000,\n",
    "    callback=[\n",
    "        checkpoint_callback,\n",
    "        WandbCallback(\n",
    "            gradient_save_freq=100000,\n",
    "            model_save_path=f\"models/{run.id}\",\n",
    "            model_save_freq=100000,\n",
    "            verbose=2,\n",
    "        ),\n",
    "    ],\n",
    ")\n",
    "env.close()\n",
    "run.finish()"
   ]
  },
  {
   "cell_type": "code",
   "execution_count": null,
   "id": "181cc2b7",
   "metadata": {},
   "outputs": [],
   "source": []
  }
 ],
 "metadata": {
  "kernelspec": {
   "display_name": "Python 3 (ipykernel)",
   "language": "python",
   "name": "python3"
  },
  "language_info": {
   "codemirror_mode": {
    "name": "ipython",
    "version": 3
   },
   "file_extension": ".py",
   "mimetype": "text/x-python",
   "name": "python",
   "nbconvert_exporter": "python",
   "pygments_lexer": "ipython3",
   "version": "3.9.13"
  }
 },
 "nbformat": 4,
 "nbformat_minor": 5
}
